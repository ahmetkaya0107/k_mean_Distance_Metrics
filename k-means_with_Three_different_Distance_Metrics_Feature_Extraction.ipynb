{
 "cells": [
  {
   "cell_type": "markdown",
   "metadata": {},
   "source": [
    "# k-means with Three different Distance Metrics by Using Feature Extraction\n",
    "We will apply Feature Extraction to Iris data and compare three different Distance Metrics. "
   ]
  },
  {
   "cell_type": "markdown",
   "metadata": {},
   "source": [
    "# DISTANCE METRICS"
   ]
  },
  {
   "cell_type": "markdown",
   "metadata": {},
   "source": [
    "# 1.Basic Euclidean Distance Metric:\n",
    "Euclidean distance computes the root of square difference\n",
    "between co-ordinates of pair of objects. \n",
    "\n",
    "$Distance=\\sqrt{\\left(\\sum_{k=1}^m (x_{ik}-x_{jk} \\right)^2)}$"
   ]
  },
  {
   "cell_type": "code",
   "execution_count": 1,
   "metadata": {},
   "outputs": [],
   "source": [
    "import numpy as np\n",
    "import pandas as pd\n",
    "import seaborn as sns\n",
    "from matplotlib import pyplot as plt"
   ]
  },
  {
   "cell_type": "code",
   "execution_count": 2,
   "metadata": {},
   "outputs": [
    {
     "data": {
      "text/html": [
       "<div>\n",
       "<style scoped>\n",
       "    .dataframe tbody tr th:only-of-type {\n",
       "        vertical-align: middle;\n",
       "    }\n",
       "\n",
       "    .dataframe tbody tr th {\n",
       "        vertical-align: top;\n",
       "    }\n",
       "\n",
       "    .dataframe thead th {\n",
       "        text-align: right;\n",
       "    }\n",
       "</style>\n",
       "<table border=\"1\" class=\"dataframe\">\n",
       "  <thead>\n",
       "    <tr style=\"text-align: right;\">\n",
       "      <th></th>\n",
       "      <th>sepal_length</th>\n",
       "      <th>sepal_width</th>\n",
       "      <th>petal_length</th>\n",
       "      <th>petal_width</th>\n",
       "      <th>species</th>\n",
       "      <th>euclidean</th>\n",
       "    </tr>\n",
       "  </thead>\n",
       "  <tbody>\n",
       "    <tr>\n",
       "      <th>0</th>\n",
       "      <td>5.1</td>\n",
       "      <td>3.5</td>\n",
       "      <td>1.4</td>\n",
       "      <td>0.2</td>\n",
       "      <td>setosa</td>\n",
       "      <td>1.414214</td>\n",
       "    </tr>\n",
       "    <tr>\n",
       "      <th>1</th>\n",
       "      <td>4.9</td>\n",
       "      <td>3.0</td>\n",
       "      <td>1.4</td>\n",
       "      <td>0.2</td>\n",
       "      <td>setosa</td>\n",
       "      <td>1.414214</td>\n",
       "    </tr>\n",
       "    <tr>\n",
       "      <th>2</th>\n",
       "      <td>4.7</td>\n",
       "      <td>3.2</td>\n",
       "      <td>1.3</td>\n",
       "      <td>0.2</td>\n",
       "      <td>setosa</td>\n",
       "      <td>1.315295</td>\n",
       "    </tr>\n",
       "    <tr>\n",
       "      <th>3</th>\n",
       "      <td>4.6</td>\n",
       "      <td>3.1</td>\n",
       "      <td>1.5</td>\n",
       "      <td>0.2</td>\n",
       "      <td>setosa</td>\n",
       "      <td>1.513275</td>\n",
       "    </tr>\n",
       "    <tr>\n",
       "      <th>4</th>\n",
       "      <td>5.0</td>\n",
       "      <td>3.6</td>\n",
       "      <td>1.4</td>\n",
       "      <td>0.2</td>\n",
       "      <td>setosa</td>\n",
       "      <td>1.414214</td>\n",
       "    </tr>\n",
       "  </tbody>\n",
       "</table>\n",
       "</div>"
      ],
      "text/plain": [
       "   sepal_length  sepal_width  petal_length  petal_width species  euclidean\n",
       "0           5.1          3.5           1.4          0.2  setosa   1.414214\n",
       "1           4.9          3.0           1.4          0.2  setosa   1.414214\n",
       "2           4.7          3.2           1.3          0.2  setosa   1.315295\n",
       "3           4.6          3.1           1.5          0.2  setosa   1.513275\n",
       "4           5.0          3.6           1.4          0.2  setosa   1.414214"
      ]
     },
     "execution_count": 2,
     "metadata": {},
     "output_type": "execute_result"
    }
   ],
   "source": [
    "df=pd.read_csv('https://raw.githubusercontent.com/uiuc-cse/data-fa14/gh-pages/data/iris.csv')\n",
    "df['euclidean']=np.sqrt(df.petal_length**2+df.petal_width**2)\n",
    "df.head()"
   ]
  },
  {
   "cell_type": "markdown",
   "metadata": {},
   "source": [
    "# 1.1. Find the cluster center:\n",
    "Data point is assigned to the cluster center whose distance\n",
    "from the cluster center is minimum of all the cluster centers. We are assuming we have 3 clusters.\n",
    "$Center (x,y)=(\\left(\\sum_{i=1}^N \\frac{x_i}{N}\\right), \\left(\\sum_{i=1}^N \\frac{y_i}{N}\\right))$"
   ]
  },
  {
   "cell_type": "markdown",
   "metadata": {},
   "source": [
    "Three different clusters will be plotted with three different color"
   ]
  },
  {
   "cell_type": "code",
   "execution_count": 3,
   "metadata": {},
   "outputs": [
    {
     "data": {
      "image/png": "[encoded data removed]",
      "text/plain": [
       "<Figure size 360x360 with 1 Axes>"
      ]
     },
     "metadata": {},
     "output_type": "display_data"
    }
   ],
   "source": [
    "#plot to see clusters.  \n",
    "x=[]\n",
    "for i in range (1,151): \n",
    "    x.append(i)\n",
    "df['x']=x\n",
    "g=sns.lmplot( x='x', y=\"euclidean\", data=df, fit_reg=False, hue='species', legend=False)\n",
    "bbox_Circle = dict(boxstyle=\"Circle,pad=0.3\", fc=\"b\", ec=\"b\", alpha=1)\n",
    "plt.text(df[df.species=='setosa']['x'].mean(), df[df.species=='setosa']['euclidean'].mean(), \"setos\", ha=\"center\", va=\"center\", size=5,bbox=bbox_Circle)\n",
    "bbox_Circle = dict(boxstyle=\"Circle,pad=0.3\", fc=\"orange\", ec=\"b\", alpha=1)\n",
    "plt.text(df[df.species=='versicolor']['x'].mean(), df[df.species=='versicolor']['euclidean'].mean(), \"versic\", ha=\"center\", va=\"center\", size=5,bbox=bbox_Circle)\n",
    "bbox_Circle = dict(boxstyle=\"Circle,pad=0.3\", fc=\"g\", ec=\"b\", alpha=1)\n",
    "plt.text(df[df.species=='virginica']['x'].mean(), df[df.species=='virginica']['euclidean'].mean(), \"versic\", ha=\"center\", va=\"center\", size=5,bbox=bbox_Circle)\n",
    "\n",
    "bbox_props = dict(boxstyle=\"round\", fc=\"w\", ec=\"0.5\", alpha=0.9)\n",
    "plt.text(70, 1.5, \"setosa\", ha=\"center\", va=\"center\", size=15,bbox=bbox_props)\n",
    "plt.text(30, 4, \"versicolor\", ha=\"center\", va=\"center\", size=15,bbox=bbox_props)\n",
    "plt.text(75, 7, \"virginica\", ha=\"center\", va=\"center\", size=15,bbox=bbox_props)\n",
    "\n",
    "plt.show()"
   ]
  },
  {
   "cell_type": "code",
   "execution_count": 4,
   "metadata": {},
   "outputs": [],
   "source": [
    "df['setosa']=np.sqrt((df.x-df[df.species=='setosa']['x'].mean())**2+(df.euclidean-df[df.species=='setosa']['euclidean'].mean())**2)\n",
    "df['versicolor']=np.sqrt((df.x-df[df.species=='versicolor']['x'].mean())**2+(df.euclidean-df[df.species=='versicolor']['euclidean'].mean())**2)\n",
    "df['virginica']=np.sqrt((df.x-df[df.species=='virginica']['x'].mean())**2+(df.euclidean-df[df.species=='virginica']['euclidean'].mean())**2)\n",
    "def calculate_new_clusters(row):\n",
    "    if (row[\"setosa\"] < row['versicolor']) and (row['setosa']<row['virginica']):\n",
    "        return 'setosa'\n",
    "    elif(row['versicolor']<row['virginica']):\n",
    "        return 'versicolor' \n",
    "    else:\n",
    "        return 'virginica'\n",
    "#applying function to df\n",
    "df[\"Cluster\"] = df.apply(calculate_new_clusters,axis=1)"
   ]
  },
  {
   "cell_type": "code",
   "execution_count": 5,
   "metadata": {},
   "outputs": [
    {
     "data": {
      "text/html": [
       "<div>\n",
       "<style scoped>\n",
       "    .dataframe tbody tr th:only-of-type {\n",
       "        vertical-align: middle;\n",
       "    }\n",
       "\n",
       "    .dataframe tbody tr th {\n",
       "        vertical-align: top;\n",
       "    }\n",
       "\n",
       "    .dataframe thead th {\n",
       "        text-align: right;\n",
       "    }\n",
       "</style>\n",
       "<table border=\"1\" class=\"dataframe\">\n",
       "  <thead>\n",
       "    <tr style=\"text-align: right;\">\n",
       "      <th></th>\n",
       "      <th>0</th>\n",
       "      <th>1</th>\n",
       "      <th>2</th>\n",
       "    </tr>\n",
       "  </thead>\n",
       "  <tbody>\n",
       "    <tr>\n",
       "      <th>0</th>\n",
       "      <td>50</td>\n",
       "      <td>0</td>\n",
       "      <td>0</td>\n",
       "    </tr>\n",
       "    <tr>\n",
       "      <th>1</th>\n",
       "      <td>0</td>\n",
       "      <td>50</td>\n",
       "      <td>0</td>\n",
       "    </tr>\n",
       "    <tr>\n",
       "      <th>2</th>\n",
       "      <td>0</td>\n",
       "      <td>0</td>\n",
       "      <td>50</td>\n",
       "    </tr>\n",
       "  </tbody>\n",
       "</table>\n",
       "</div>"
      ],
      "text/plain": [
       "    0   1   2\n",
       "0  50   0   0\n",
       "1   0  50   0\n",
       "2   0   0  50"
      ]
     },
     "execution_count": 5,
     "metadata": {},
     "output_type": "execute_result"
    }
   ],
   "source": [
    "from sklearn.metrics import confusion_matrix\n",
    "cnf_matrix = confusion_matrix(df['species'], df['Cluster'])\n",
    "pd.DataFrame(cnf_matrix)"
   ]
  },
  {
   "cell_type": "markdown",
   "metadata": {},
   "source": [
    "# 2. Manhattan Distance Metric"
   ]
  },
  {
   "cell_type": "markdown",
   "metadata": {},
   "source": [
    "Manhattan distance computes the absolute differences between coordinates of pair of objects\n",
    "\n",
    "$Distance=|x_i-x_j|$\n"
   ]
  },
  {
   "cell_type": "code",
   "execution_count": 6,
   "metadata": {},
   "outputs": [
    {
     "data": {
      "text/html": [
       "<div>\n",
       "<style scoped>\n",
       "    .dataframe tbody tr th:only-of-type {\n",
       "        vertical-align: middle;\n",
       "    }\n",
       "\n",
       "    .dataframe tbody tr th {\n",
       "        vertical-align: top;\n",
       "    }\n",
       "\n",
       "    .dataframe thead th {\n",
       "        text-align: right;\n",
       "    }\n",
       "</style>\n",
       "<table border=\"1\" class=\"dataframe\">\n",
       "  <thead>\n",
       "    <tr style=\"text-align: right;\">\n",
       "      <th></th>\n",
       "      <th>sepal_length</th>\n",
       "      <th>sepal_width</th>\n",
       "      <th>petal_length</th>\n",
       "      <th>petal_width</th>\n",
       "      <th>species</th>\n",
       "      <th>Manhattan</th>\n",
       "    </tr>\n",
       "  </thead>\n",
       "  <tbody>\n",
       "    <tr>\n",
       "      <th>0</th>\n",
       "      <td>5.1</td>\n",
       "      <td>3.5</td>\n",
       "      <td>1.4</td>\n",
       "      <td>0.2</td>\n",
       "      <td>setosa</td>\n",
       "      <td>1.2</td>\n",
       "    </tr>\n",
       "    <tr>\n",
       "      <th>1</th>\n",
       "      <td>4.9</td>\n",
       "      <td>3.0</td>\n",
       "      <td>1.4</td>\n",
       "      <td>0.2</td>\n",
       "      <td>setosa</td>\n",
       "      <td>1.2</td>\n",
       "    </tr>\n",
       "    <tr>\n",
       "      <th>2</th>\n",
       "      <td>4.7</td>\n",
       "      <td>3.2</td>\n",
       "      <td>1.3</td>\n",
       "      <td>0.2</td>\n",
       "      <td>setosa</td>\n",
       "      <td>1.1</td>\n",
       "    </tr>\n",
       "    <tr>\n",
       "      <th>3</th>\n",
       "      <td>4.6</td>\n",
       "      <td>3.1</td>\n",
       "      <td>1.5</td>\n",
       "      <td>0.2</td>\n",
       "      <td>setosa</td>\n",
       "      <td>1.3</td>\n",
       "    </tr>\n",
       "    <tr>\n",
       "      <th>4</th>\n",
       "      <td>5.0</td>\n",
       "      <td>3.6</td>\n",
       "      <td>1.4</td>\n",
       "      <td>0.2</td>\n",
       "      <td>setosa</td>\n",
       "      <td>1.2</td>\n",
       "    </tr>\n",
       "  </tbody>\n",
       "</table>\n",
       "</div>"
      ],
      "text/plain": [
       "   sepal_length  sepal_width  petal_length  petal_width species  Manhattan\n",
       "0           5.1          3.5           1.4          0.2  setosa        1.2\n",
       "1           4.9          3.0           1.4          0.2  setosa        1.2\n",
       "2           4.7          3.2           1.3          0.2  setosa        1.1\n",
       "3           4.6          3.1           1.5          0.2  setosa        1.3\n",
       "4           5.0          3.6           1.4          0.2  setosa        1.2"
      ]
     },
     "execution_count": 6,
     "metadata": {},
     "output_type": "execute_result"
    }
   ],
   "source": [
    "df=pd.read_csv('https://raw.githubusercontent.com/uiuc-cse/data-fa14/gh-pages/data/iris.csv')\n",
    "df['Manhattan']=np.abs(df.petal_length-df.petal_width)\n",
    "df.head()"
   ]
  },
  {
   "cell_type": "code",
   "execution_count": 7,
   "metadata": {},
   "outputs": [
    {
     "data": {
      "image/png": "[encoded data removed]",
      "text/plain": [
       "<Figure size 360x360 with 1 Axes>"
      ]
     },
     "metadata": {},
     "output_type": "display_data"
    }
   ],
   "source": [
    "#plot to see clusters. \n",
    "x=[]\n",
    "for i in range (1,151): \n",
    "    x.append(i)\n",
    "df['x']=x\n",
    "g=sns.lmplot( x='x', y=\"Manhattan\", data=df, fit_reg=False, hue='species', legend=False)\n",
    "bbox_props = dict(boxstyle=\"round\", fc=\"w\", ec=\"0.5\", alpha=0.25)\n",
    "plt.text(70, 1.3, \"setosa\", ha=\"center\", va=\"center\", size=15,bbox=bbox_props)\n",
    "plt.text(30, 3, \"versicolor\", ha=\"center\", va=\"center\", size=15,bbox=bbox_props)\n",
    "plt.text(160, 4, \"virginica\", ha=\"center\", va=\"center\", size=15,bbox=bbox_props)\n",
    "plt.show()"
   ]
  },
  {
   "cell_type": "code",
   "execution_count": 8,
   "metadata": {},
   "outputs": [
    {
     "data": {
      "text/html": [
       "<div>\n",
       "<style scoped>\n",
       "    .dataframe tbody tr th:only-of-type {\n",
       "        vertical-align: middle;\n",
       "    }\n",
       "\n",
       "    .dataframe tbody tr th {\n",
       "        vertical-align: top;\n",
       "    }\n",
       "\n",
       "    .dataframe thead th {\n",
       "        text-align: right;\n",
       "    }\n",
       "</style>\n",
       "<table border=\"1\" class=\"dataframe\">\n",
       "  <thead>\n",
       "    <tr style=\"text-align: right;\">\n",
       "      <th></th>\n",
       "      <th>0</th>\n",
       "      <th>1</th>\n",
       "      <th>2</th>\n",
       "    </tr>\n",
       "  </thead>\n",
       "  <tbody>\n",
       "    <tr>\n",
       "      <th>0</th>\n",
       "      <td>50</td>\n",
       "      <td>0</td>\n",
       "      <td>0</td>\n",
       "    </tr>\n",
       "    <tr>\n",
       "      <th>1</th>\n",
       "      <td>0</td>\n",
       "      <td>50</td>\n",
       "      <td>0</td>\n",
       "    </tr>\n",
       "    <tr>\n",
       "      <th>2</th>\n",
       "      <td>0</td>\n",
       "      <td>0</td>\n",
       "      <td>50</td>\n",
       "    </tr>\n",
       "  </tbody>\n",
       "</table>\n",
       "</div>"
      ],
      "text/plain": [
       "    0   1   2\n",
       "0  50   0   0\n",
       "1   0  50   0\n",
       "2   0   0  50"
      ]
     },
     "execution_count": 8,
     "metadata": {},
     "output_type": "execute_result"
    }
   ],
   "source": [
    "df['setosa']=np.abs(df.x-df[df.species=='setosa']['x'].mean())+np.abs(df.Manhattan-df[df.species=='setosa']['Manhattan'].mean())\n",
    "df['versicolor']=np.abs(df.x-df[df.species=='versicolor']['x'].mean())+np.abs(df.Manhattan-df[df.species=='versicolor']['Manhattan'].mean())\n",
    "df['virginica']=np.abs(df.x-df[df.species=='virginica']['x'].mean())+np.abs(df.Manhattan-df[df.species=='virginica']['Manhattan'].mean())\n",
    "\n",
    "#applying function to df\n",
    "df[\"Cluster\"] = df.apply(calculate_new_clusters,axis=1)\n",
    "from sklearn.metrics import confusion_matrix\n",
    "cnf_matrix = confusion_matrix(df['species'], df['Cluster'])\n",
    "pd.DataFrame(cnf_matrix)"
   ]
  },
  {
   "cell_type": "markdown",
   "metadata": {},
   "source": [
    "# 3. Minkowski Distance Metric\n",
    "\n",
    "Minkowski Distance is the generalized metric distance. \n",
    "\n",
    "$Distance=\\left(\\sum_{k=1}^m (x_{ik}-x_{jk} \\right)^p)^{1/p}$\n",
    "\n",
    "Note that when p=2, the distance becomes the Euclidean\n",
    "distance. When p=1 it becomes city block distance.\n",
    "Chebyshev distance is a variant of Minkowski distance where\n",
    "$p=\\infty$ (taking a limit). This distance can be used for both\n",
    "ordinal and quantitative variables.\n"
   ]
  },
  {
   "cell_type": "code",
   "execution_count": 9,
   "metadata": {},
   "outputs": [
    {
     "data": {
      "text/html": [
       "<div>\n",
       "<style scoped>\n",
       "    .dataframe tbody tr th:only-of-type {\n",
       "        vertical-align: middle;\n",
       "    }\n",
       "\n",
       "    .dataframe tbody tr th {\n",
       "        vertical-align: top;\n",
       "    }\n",
       "\n",
       "    .dataframe thead th {\n",
       "        text-align: right;\n",
       "    }\n",
       "</style>\n",
       "<table border=\"1\" class=\"dataframe\">\n",
       "  <thead>\n",
       "    <tr style=\"text-align: right;\">\n",
       "      <th></th>\n",
       "      <th>sepal_length</th>\n",
       "      <th>sepal_width</th>\n",
       "      <th>petal_length</th>\n",
       "      <th>petal_width</th>\n",
       "      <th>species</th>\n",
       "      <th>Minkowski</th>\n",
       "    </tr>\n",
       "  </thead>\n",
       "  <tbody>\n",
       "    <tr>\n",
       "      <th>0</th>\n",
       "      <td>5.1</td>\n",
       "      <td>3.5</td>\n",
       "      <td>1.4</td>\n",
       "      <td>0.2</td>\n",
       "      <td>setosa</td>\n",
       "      <td>1.400017</td>\n",
       "    </tr>\n",
       "    <tr>\n",
       "      <th>1</th>\n",
       "      <td>4.9</td>\n",
       "      <td>3.0</td>\n",
       "      <td>1.4</td>\n",
       "      <td>0.2</td>\n",
       "      <td>setosa</td>\n",
       "      <td>1.400017</td>\n",
       "    </tr>\n",
       "    <tr>\n",
       "      <th>2</th>\n",
       "      <td>4.7</td>\n",
       "      <td>3.2</td>\n",
       "      <td>1.3</td>\n",
       "      <td>0.2</td>\n",
       "      <td>setosa</td>\n",
       "      <td>1.300022</td>\n",
       "    </tr>\n",
       "    <tr>\n",
       "      <th>3</th>\n",
       "      <td>4.6</td>\n",
       "      <td>3.1</td>\n",
       "      <td>1.5</td>\n",
       "      <td>0.2</td>\n",
       "      <td>setosa</td>\n",
       "      <td>1.500013</td>\n",
       "    </tr>\n",
       "    <tr>\n",
       "      <th>4</th>\n",
       "      <td>5.0</td>\n",
       "      <td>3.6</td>\n",
       "      <td>1.4</td>\n",
       "      <td>0.2</td>\n",
       "      <td>setosa</td>\n",
       "      <td>1.400017</td>\n",
       "    </tr>\n",
       "  </tbody>\n",
       "</table>\n",
       "</div>"
      ],
      "text/plain": [
       "   sepal_length  sepal_width  petal_length  petal_width species  Minkowski\n",
       "0           5.1          3.5           1.4          0.2  setosa   1.400017\n",
       "1           4.9          3.0           1.4          0.2  setosa   1.400017\n",
       "2           4.7          3.2           1.3          0.2  setosa   1.300022\n",
       "3           4.6          3.1           1.5          0.2  setosa   1.500013\n",
       "4           5.0          3.6           1.4          0.2  setosa   1.400017"
      ]
     },
     "execution_count": 9,
     "metadata": {},
     "output_type": "execute_result"
    }
   ],
   "source": [
    "df=pd.read_csv('https://raw.githubusercontent.com/uiuc-cse/data-fa14/gh-pages/data/iris.csv')\n",
    "#for p=5\n",
    "df['Minkowski']=(df.petal_length**5+df.petal_width**5)**(1/5)\n",
    "df.head()"
   ]
  },
  {
   "cell_type": "code",
   "execution_count": 10,
   "metadata": {},
   "outputs": [
    {
     "data": {
      "text/plain": [
       "Text(160,6,'virginica')"
      ]
     },
     "execution_count": 10,
     "metadata": {},
     "output_type": "execute_result"
    },
    {
     "data": {
      "image/png": "[encoded data removed]",
      "text/plain": [
       "<Figure size 360x360 with 1 Axes>"
      ]
     },
     "metadata": {},
     "output_type": "display_data"
    }
   ],
   "source": [
    "#plot to see cluster\n",
    "x=[]\n",
    "for i in range (1,151): \n",
    "    x.append(i)\n",
    "df['x']=x\n",
    "g=sns.lmplot( x='x', y=\"Minkowski\", data=df, fit_reg=False, hue='species', legend=False)\n",
    "\n",
    "\n",
    "bbox_props = dict(boxstyle=\"round\", fc=\"w\", ec=\"0.5\", alpha=0.9)\n",
    "plt.text(70, 1.3, \"setosa\", ha=\"center\", va=\"center\", size=15,bbox=bbox_props)\n",
    "plt.text(30, 4, \"versicolor\", ha=\"center\", va=\"center\", size=15,bbox=bbox_props)\n",
    "plt.text(160, 6, \"virginica\", ha=\"center\", va=\"center\", size=15,bbox=bbox_props)"
   ]
  },
  {
   "cell_type": "code",
   "execution_count": 11,
   "metadata": {},
   "outputs": [
    {
     "data": {
      "text/html": [
       "<div>\n",
       "<style scoped>\n",
       "    .dataframe tbody tr th:only-of-type {\n",
       "        vertical-align: middle;\n",
       "    }\n",
       "\n",
       "    .dataframe tbody tr th {\n",
       "        vertical-align: top;\n",
       "    }\n",
       "\n",
       "    .dataframe thead th {\n",
       "        text-align: right;\n",
       "    }\n",
       "</style>\n",
       "<table border=\"1\" class=\"dataframe\">\n",
       "  <thead>\n",
       "    <tr style=\"text-align: right;\">\n",
       "      <th></th>\n",
       "      <th>0</th>\n",
       "      <th>1</th>\n",
       "      <th>2</th>\n",
       "    </tr>\n",
       "  </thead>\n",
       "  <tbody>\n",
       "    <tr>\n",
       "      <th>0</th>\n",
       "      <td>50</td>\n",
       "      <td>0</td>\n",
       "      <td>0</td>\n",
       "    </tr>\n",
       "    <tr>\n",
       "      <th>1</th>\n",
       "      <td>0</td>\n",
       "      <td>50</td>\n",
       "      <td>0</td>\n",
       "    </tr>\n",
       "    <tr>\n",
       "      <th>2</th>\n",
       "      <td>0</td>\n",
       "      <td>0</td>\n",
       "      <td>50</td>\n",
       "    </tr>\n",
       "  </tbody>\n",
       "</table>\n",
       "</div>"
      ],
      "text/plain": [
       "    0   1   2\n",
       "0  50   0   0\n",
       "1   0  50   0\n",
       "2   0   0  50"
      ]
     },
     "execution_count": 11,
     "metadata": {},
     "output_type": "execute_result"
    }
   ],
   "source": [
    "df['setosa']=(np.abs(df.x-df[df.species=='setosa']['x'].mean())**5+np.abs(df.Minkowski-df[df.species=='setosa']['Minkowski'].mean())**5)**(1/5)\n",
    "df['versicolor']=(np.abs(df.x-df[df.species=='versicolor']['x'].mean())**5+np.abs(df.Minkowski-df[df.species=='versicolor']['Minkowski'].mean())**5)**(1/5)\n",
    "df['virginica']=(np.abs(df.x-df[df.species=='virginica']['x'].mean())**5+np.abs(df.Minkowski-df[df.species=='virginica']['Minkowski'].mean())**5)**(1/5)\n",
    "\n",
    "#applying function to df\n",
    "df[\"Cluster\"] = df.apply(calculate_new_clusters,axis=1)\n",
    "from sklearn.metrics import confusion_matrix\n",
    "cnf_matrix = confusion_matrix(df['species'], df['Cluster'])\n",
    "pd.DataFrame(cnf_matrix)"
   ]
  }
 ],
 "metadata": {
  "kernelspec": {
   "display_name": "Python [default]",
   "language": "python",
   "name": "python3"
  },
  "language_info": {
   "codemirror_mode": {
    "name": "ipython",
    "version": 3
   },
   "file_extension": ".py",
   "mimetype": "text/x-python",
   "name": "python",
   "nbconvert_exporter": "python",
   "pygments_lexer": "ipython3",
   "version": "3.6.5"
  }
 },
 "nbformat": 4,
 "nbformat_minor": 2
}
