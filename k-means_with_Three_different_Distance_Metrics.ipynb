{
 "cells": [
  {
   "cell_type": "markdown",
   "metadata": {},
   "source": [
    "# k-means with Three different Distance Metrics and Dimension Reduction \n",
    "We will apply manually dimension reduction to Iris data instead of using sklearn in python or R library and compare three different Distance Metrics.\n",
    "The power of k-means algorithm is due to its computational\n",
    "efficiency and the nature of ease at which it can be used.\n",
    "Distance metrics are used to find similar data objects that lead\n",
    "to develop robust algorithms for the data mining\n",
    "functionalities such as classification and clustering."
   ]
  },
  {
   "cell_type": "code",
   "execution_count": 31,
   "metadata": {},
   "outputs": [],
   "source": [
    "import numpy as np\n",
    "import pandas as pd\n",
    "from sklearn import datasets\n",
    "import seaborn as sns\n",
    "from matplotlib import pyplot as plt\n",
    "import random\n",
    "import math"
   ]
  },
  {
   "cell_type": "markdown",
   "metadata": {},
   "source": [
    "# 1. Dimension Reduction"
   ]
  },
  {
   "cell_type": "markdown",
   "metadata": {},
   "source": [
    "We will reduce the dimension manually instead of using sklearn in python or R library. Here we will convert the dimension of data from 2D (from x1 and x2) and (x3 and x4) to 1D (z1) and and 1D (z2), respectively."
   ]
  },
  {
   "cell_type": "code",
   "execution_count": 32,
   "metadata": {},
   "outputs": [],
   "source": [
    "#load the data\n",
    "df=pd.read_csv('https://raw.githubusercontent.com/uiuc-cse/data-fa14/gh-pages/data/iris.csv')\n",
    "#2D (from x1 and x2) to 1D (z1) \n",
    "df['Z1']=np.sqrt(df.sepal_length**2+df.sepal_width**2)\n",
    "#(x3 and x4) to 1D (z2)\n",
    "df['Z2']=np.sqrt(df.petal_length**2+df.petal_width**2)"
   ]
  },
  {
   "cell_type": "markdown",
   "metadata": {},
   "source": [
    "Now we have 2D instead of the 4D"
   ]
  },
  {
   "cell_type": "code",
   "execution_count": 33,
   "metadata": {},
   "outputs": [
    {
     "data": {
      "text/html": [
       "<div>\n",
       "<style scoped>\n",
       "    .dataframe tbody tr th:only-of-type {\n",
       "        vertical-align: middle;\n",
       "    }\n",
       "\n",
       "    .dataframe tbody tr th {\n",
       "        vertical-align: top;\n",
       "    }\n",
       "\n",
       "    .dataframe thead th {\n",
       "        text-align: right;\n",
       "    }\n",
       "</style>\n",
       "<table border=\"1\" class=\"dataframe\">\n",
       "  <thead>\n",
       "    <tr style=\"text-align: right;\">\n",
       "      <th></th>\n",
       "      <th>sepal_length</th>\n",
       "      <th>sepal_width</th>\n",
       "      <th>petal_length</th>\n",
       "      <th>petal_width</th>\n",
       "      <th>species</th>\n",
       "      <th>Z1</th>\n",
       "      <th>Z2</th>\n",
       "    </tr>\n",
       "  </thead>\n",
       "  <tbody>\n",
       "    <tr>\n",
       "      <th>0</th>\n",
       "      <td>5.1</td>\n",
       "      <td>3.5</td>\n",
       "      <td>1.4</td>\n",
       "      <td>0.2</td>\n",
       "      <td>setosa</td>\n",
       "      <td>6.185467</td>\n",
       "      <td>1.414214</td>\n",
       "    </tr>\n",
       "    <tr>\n",
       "      <th>1</th>\n",
       "      <td>4.9</td>\n",
       "      <td>3.0</td>\n",
       "      <td>1.4</td>\n",
       "      <td>0.2</td>\n",
       "      <td>setosa</td>\n",
       "      <td>5.745433</td>\n",
       "      <td>1.414214</td>\n",
       "    </tr>\n",
       "    <tr>\n",
       "      <th>2</th>\n",
       "      <td>4.7</td>\n",
       "      <td>3.2</td>\n",
       "      <td>1.3</td>\n",
       "      <td>0.2</td>\n",
       "      <td>setosa</td>\n",
       "      <td>5.685948</td>\n",
       "      <td>1.315295</td>\n",
       "    </tr>\n",
       "    <tr>\n",
       "      <th>3</th>\n",
       "      <td>4.6</td>\n",
       "      <td>3.1</td>\n",
       "      <td>1.5</td>\n",
       "      <td>0.2</td>\n",
       "      <td>setosa</td>\n",
       "      <td>5.547071</td>\n",
       "      <td>1.513275</td>\n",
       "    </tr>\n",
       "    <tr>\n",
       "      <th>4</th>\n",
       "      <td>5.0</td>\n",
       "      <td>3.6</td>\n",
       "      <td>1.4</td>\n",
       "      <td>0.2</td>\n",
       "      <td>setosa</td>\n",
       "      <td>6.161169</td>\n",
       "      <td>1.414214</td>\n",
       "    </tr>\n",
       "  </tbody>\n",
       "</table>\n",
       "</div>"
      ],
      "text/plain": [
       "   sepal_length  sepal_width  petal_length  petal_width species        Z1  \\\n",
       "0           5.1          3.5           1.4          0.2  setosa  6.185467   \n",
       "1           4.9          3.0           1.4          0.2  setosa  5.745433   \n",
       "2           4.7          3.2           1.3          0.2  setosa  5.685948   \n",
       "3           4.6          3.1           1.5          0.2  setosa  5.547071   \n",
       "4           5.0          3.6           1.4          0.2  setosa  6.161169   \n",
       "\n",
       "         Z2  \n",
       "0  1.414214  \n",
       "1  1.414214  \n",
       "2  1.315295  \n",
       "3  1.513275  \n",
       "4  1.414214  "
      ]
     },
     "execution_count": 33,
     "metadata": {},
     "output_type": "execute_result"
    }
   ],
   "source": [
    "df.head()"
   ]
  },
  {
   "cell_type": "markdown",
   "metadata": {},
   "source": [
    "# 1.1. Find the cluster center:"
   ]
  },
  {
   "cell_type": "markdown",
   "metadata": {},
   "source": [
    "Data point is assigned to the cluster center whose distance\n",
    "from the cluster center is minimum of all the cluster centers. We are assuming we have 3 clusters.\n",
    "$Center (x,y)=(\\left(\\sum_{i=1}^N \\frac{x_i}{N}\\right), \\left(\\sum_{i=1}^N \\frac{y_i}{N}\\right))$"
   ]
  },
  {
   "cell_type": "code",
   "execution_count": 34,
   "metadata": {},
   "outputs": [],
   "source": [
    "Z1Cent_setosa=df[df.species=='setosa']['Z1'].mean()\n",
    "Z2Cent_setosa=df[df.species=='setosa']['Z2'].mean()"
   ]
  },
  {
   "cell_type": "code",
   "execution_count": 35,
   "metadata": {},
   "outputs": [],
   "source": [
    "Z1Cent_versicolor=df[df.species=='versicolor']['Z1'].mean()\n",
    "Z2Cent_versicolor=df[df.species=='versicolor']['Z2'].mean()"
   ]
  },
  {
   "cell_type": "code",
   "execution_count": 36,
   "metadata": {},
   "outputs": [],
   "source": [
    "Z1Cent_virginica=df[df.species=='virginica']['Z1'].mean()\n",
    "Z2Cent_virginica=df[df.species=='virginica']['Z2'].mean()"
   ]
  },
  {
   "cell_type": "code",
   "execution_count": 37,
   "metadata": {},
   "outputs": [
    {
     "data": {
      "text/plain": [
       "<matplotlib.legend.Legend at 0x2cc158286d8>"
      ]
     },
     "execution_count": 37,
     "metadata": {},
     "output_type": "execute_result"
    },
    {
     "data": {
      "image/png": "[encoded data removed]",
      "text/plain": [
       "<Figure size 360x360 with 1 Axes>"
      ]
     },
     "metadata": {},
     "output_type": "display_data"
    }
   ],
   "source": [
    "# Use the 'hue' argument to provide a factor variable\n",
    "g=sns.lmplot( x=\"Z1\", y=\"Z2\", data=df, fit_reg=False, hue='species', legend=False)\n",
    "\n",
    "bbox_Circle = dict(boxstyle=\"Circle,pad=0.3\", fc=\"blue\", ec=\"black\", alpha=1)\n",
    "plt.text(Z1Cent_setosa, Z2Cent_setosa, \"Setosa\", ha=\"center\", va=\"center\", size=3,bbox=bbox_Circle)\n",
    "plt.annotate('Setosa', xy=(0.6,1.5), xytext=(1,1.55),\n",
    "            arrowprops=dict(facecolor='blue', shrink=0.15)\n",
    "            )\n",
    "bbox_Circle = dict(boxstyle=\"Circle,pad=0.3\", fc=\"orange\", ec=\"black\", alpha=1)\n",
    "plt.text(Z1Cent_versicolor, Z2Cent_versicolor, \"virginica\", ha=\"center\", va=\"center\", size=3,bbox=bbox_Circle)\n",
    "plt.annotate('versicolor', xy=(1.7,4.2), xytext=(2,4.2),\n",
    "            arrowprops=dict(facecolor='orange', shrink=0.1)\n",
    "            )\n",
    "\n",
    "bbox_Circle = dict(boxstyle=\"Circle,pad=0.3\", fc=\"green\", ec=\"black\", alpha=1)\n",
    "plt.text(Z1Cent_virginica, Z2Cent_virginica, \"virginica\", ha=\"center\", va=\"center\", size=3,bbox=bbox_Circle)\n",
    "plt.annotate('virginica', xy=(1.5,5.7), xytext=(0.8,5.7),\n",
    "            arrowprops=dict(facecolor='g', shrink=0.1)\n",
    "            )\n",
    "\n",
    "# Move the legend to an empty part of the plot\n",
    "plt.legend(loc='lower right')"
   ]
  },
  {
   "cell_type": "markdown",
   "metadata": {},
   "source": [
    "# DISTANCE METRICS"
   ]
  },
  {
   "cell_type": "markdown",
   "metadata": {},
   "source": [
    "# 1.Basic Euclidean Distance Metric:\n",
    "Euclidean distance computes the root of square difference\n",
    "between co-ordinates of pair of objects. \n",
    "\n",
    "$Distance=\\sqrt{\\left(\\sum_{k=1}^m (x_{ik}-x_{jk} \\right)^2)}$"
   ]
  },
  {
   "cell_type": "code",
   "execution_count": 38,
   "metadata": {},
   "outputs": [],
   "source": [
    "#copy df for euclidean calculation\n",
    "dfE=df.copy()"
   ]
  },
  {
   "cell_type": "code",
   "execution_count": 40,
   "metadata": {},
   "outputs": [],
   "source": [
    "dfE['setosa']=np.sqrt((dfE.Z1-Z1Cent_setosa)**2+(dfE.Z2-Z2Cent_setosa)**2)\n",
    "dfE['versicolor']=np.sqrt((dfE.Z1-Z1Cent_versicolor)**2+(dfE.Z2-Z2Cent_versicolor)**2)\n",
    "dfE['virginica']=np.sqrt((dfE.Z1-Z1Cent_virginica)**2+(dfE.Z2-Z2Cent_virginica)**2)"
   ]
  },
  {
   "cell_type": "code",
   "execution_count": 41,
   "metadata": {},
   "outputs": [],
   "source": [
    "def calculate_new_clusters(row):\n",
    "    if (row[\"setosa\"] < row['versicolor']) and (row['setosa']<row['virginica']):\n",
    "        return 'setosa'\n",
    "    elif(row['versicolor']<row['virginica']):\n",
    "        return 'versicolor' \n",
    "    else:\n",
    "        return 'virginica'\n",
    "#applying function to df\n",
    "dfE[\"Cluster\"] = dfE.apply(calculate_new_clusters,axis=1)"
   ]
  },
  {
   "cell_type": "code",
   "execution_count": 42,
   "metadata": {},
   "outputs": [
    {
     "data": {
      "text/plain": [
       "Cluster\n",
       "setosa        50\n",
       "versicolor    52\n",
       "virginica     48\n",
       "Name: species, dtype: int64"
      ]
     },
     "execution_count": 42,
     "metadata": {},
     "output_type": "execute_result"
    }
   ],
   "source": [
    "dfE.groupby(['Cluster']).count()['species']"
   ]
  },
  {
   "cell_type": "markdown",
   "metadata": {},
   "source": [
    "# 2. Manhattan Distance Metric\n",
    "Manhattan distance computes the absolute differences between coordinates of pair of objects\n",
    "\n",
    "$Distance=|x_i-x_j|$"
   ]
  },
  {
   "cell_type": "code",
   "execution_count": 43,
   "metadata": {},
   "outputs": [],
   "source": [
    "dfManhattan=df.copy()"
   ]
  },
  {
   "cell_type": "code",
   "execution_count": 45,
   "metadata": {},
   "outputs": [],
   "source": [
    "dfManhattan['setosa']=np.abs(dfManhattan.Z1-Z1Cent_setosa)+np.abs(dfManhattan.Z2-Z2Cent_setosa)\n",
    "dfManhattan['versicolor']=np.abs(dfManhattan.Z1-Z1Cent_versicolor)+np.abs(dfManhattan.Z2-Z2Cent_versicolor)\n",
    "dfManhattan['virginica']=np.abs(dfManhattan.Z1-Z1Cent_virginica)+np.abs(dfManhattan.Z2-Z2Cent_virginica)"
   ]
  },
  {
   "cell_type": "code",
   "execution_count": 50,
   "metadata": {},
   "outputs": [
    {
     "data": {
      "text/plain": [
       "Cluster\n",
       "setosa        51\n",
       "versicolor    55\n",
       "virginica     44\n",
       "Name: species, dtype: int64"
      ]
     },
     "execution_count": 50,
     "metadata": {},
     "output_type": "execute_result"
    }
   ],
   "source": [
    "dfManhattan[\"Cluster\"] = dfManhattan.apply(calculate_new_clusters,axis=1)\n",
    "dfManhattan.groupby(['Cluster']).count()['species']"
   ]
  },
  {
   "cell_type": "markdown",
   "metadata": {},
   "source": [
    "# 3. Minkowski Distance Metric\n",
    "\n",
    "Minkowski Distance is the generalized metric distance. \n",
    "\n",
    "$Distance=\\left(\\sum_{k=1}^m (x_{ik}-x_{jk} \\right)^p)^{1/p}$\n",
    "\n",
    "Note that when p=2, the distance becomes the Euclidean\n",
    "distance. When p=1 it becomes city block distance.\n",
    "Chebyshev distance is a variant of Minkowski distance where\n",
    "$p=\\infty$ (taking a limit). This distance can be used for both\n",
    "ordinal and quantitative variables."
   ]
  },
  {
   "cell_type": "code",
   "execution_count": 70,
   "metadata": {},
   "outputs": [
    {
     "data": {
      "text/plain": [
       "Cluster\n",
       "setosa        51\n",
       "versicolor    55\n",
       "virginica     44\n",
       "Name: species, dtype: int64"
      ]
     },
     "execution_count": 70,
     "metadata": {},
     "output_type": "execute_result"
    }
   ],
   "source": [
    "dfMinkowski=df.copy()\n",
    "#p=1 \n",
    "dfMinkowski['setosa']=(np.abs(dfMinkowski.Z1-Z1Cent_setosa)**1+np.abs(dfMinkowski.Z2-Z2Cent_setosa)**1)**(1/1)\n",
    "dfMinkowski['versicolor']=(np.abs(dfMinkowski.Z1-Z1Cent_versicolor)**1+np.abs(dfMinkowski.Z2-Z2Cent_versicolor)**1)**(1/1)\n",
    "dfMinkowski['virginica']=(np.abs(dfMinkowski.Z1-Z1Cent_virginica)**1+np.abs(dfMinkowski.Z2-Z2Cent_virginica)**1)**(1/1)\n",
    "dfMinkowski[\"Cluster\"] = dfMinkowski.apply(calculate_new_clusters,axis=1)\n",
    "dfMinkowski.groupby(['Cluster']).count()['species']"
   ]
  },
  {
   "cell_type": "code",
   "execution_count": 73,
   "metadata": {},
   "outputs": [
    {
     "data": {
      "text/plain": [
       "Cluster\n",
       "setosa        50\n",
       "versicolor    52\n",
       "virginica     48\n",
       "Name: species, dtype: int64"
      ]
     },
     "execution_count": 73,
     "metadata": {},
     "output_type": "execute_result"
    }
   ],
   "source": [
    "dfMinkowski=df.copy()\n",
    "#p=2\n",
    "dfMinkowski['setosa']=(np.abs(dfMinkowski.Z1-Z1Cent_setosa)**2+np.abs(dfMinkowski.Z2-Z2Cent_setosa)**2)**(1/2)\n",
    "dfMinkowski['versicolor']=(np.abs(dfMinkowski.Z1-Z1Cent_versicolor)**2+np.abs(dfMinkowski.Z2-Z2Cent_versicolor)**2)**(1/2)\n",
    "dfMinkowski['virginica']=(np.abs(dfMinkowski.Z1-Z1Cent_virginica)**2+np.abs(dfMinkowski.Z2-Z2Cent_virginica)**2)**(1/2)\n",
    "dfMinkowski[\"Cluster\"] = dfMinkowski.apply(calculate_new_clusters,axis=1)\n",
    "dfMinkowski.groupby(['Cluster']).count()['species']"
   ]
  },
  {
   "cell_type": "code",
   "execution_count": 74,
   "metadata": {},
   "outputs": [
    {
     "data": {
      "text/plain": [
       "Cluster\n",
       "setosa        50\n",
       "versicolor    52\n",
       "virginica     48\n",
       "Name: species, dtype: int64"
      ]
     },
     "execution_count": 74,
     "metadata": {},
     "output_type": "execute_result"
    }
   ],
   "source": [
    "dfMinkowski=df.copy()\n",
    "#p=3\n",
    "dfMinkowski['setosa']=(np.abs(dfMinkowski.Z1-Z1Cent_setosa)**3+np.abs(dfMinkowski.Z2-Z2Cent_setosa)**3)**(1/3)\n",
    "dfMinkowski['versicolor']=(np.abs(dfMinkowski.Z1-Z1Cent_versicolor)**3+np.abs(dfMinkowski.Z2-Z2Cent_versicolor)**3)**(1/3)\n",
    "dfMinkowski['virginica']=(np.abs(dfMinkowski.Z1-Z1Cent_virginica)**3+np.abs(dfMinkowski.Z2-Z2Cent_virginica)**3)**(1/3)\n",
    "dfMinkowski[\"Cluster\"] = dfMinkowski.apply(calculate_new_clusters,axis=1)\n",
    "dfMinkowski.groupby(['Cluster']).count()['species']"
   ]
  },
  {
   "cell_type": "markdown",
   "metadata": {},
   "source": [
    "# 4. CONCLUSION\n",
    "K means is a heuristic algorithm that partitions a data set into\n",
    "K clusters by minimizing the sum of squared distance in each\n",
    "cluster. During the implementation of k-means with three\n",
    "different distance metrics, it is observed that selection of\n",
    "distance metric plays a very important role in clustering. So,\n",
    "the selection of distance metric should be made carefully. The\n",
    "distortion in k-means using Manhattan distance metric is less\n",
    "than that of k-means using Euclidean and Minkowski distance metric ."
   ]
  }
 ],
 "metadata": {
  "kernelspec": {
   "display_name": "Python [conda env:Anaconda3]",
   "language": "python",
   "name": "conda-env-Anaconda3-py"
  },
  "language_info": {
   "codemirror_mode": {
    "name": "ipython",
    "version": 3
   },
   "file_extension": ".py",
   "mimetype": "text/x-python",
   "name": "python",
   "nbconvert_exporter": "python",
   "pygments_lexer": "ipython3",
   "version": "3.6.5"
  }
 },
 "nbformat": 4,
 "nbformat_minor": 2
}
